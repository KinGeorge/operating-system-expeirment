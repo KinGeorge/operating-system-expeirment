{
 "cells": [
  {
   "cell_type": "code",
   "execution_count": 2,
   "id": "88528263-fb75-43d6-9686-51b88d62375c",
   "metadata": {},
   "outputs": [],
   "source": [
    "# 简单的Memory的实现(虽然是字典，但是事实上Python3.6以上字典就是有序的了)\n",
    "Memory = [{10: 2}, {11: 3}, {'LOAD':10}, {'ADD':11}, {'STORE':12}]\n",
    "# 新的Memory，为了防止此次中变长list导致运行错误\n",
    "new_Memory = [{10: 2}, {11: 3}, {'LOAD':10}, {'ADD':11}, {'STORE':12}]\n",
    "\n",
    "class ALU(object):\n",
    "    def __init__(self):\n",
    "        self.n1 = None\n",
    "        self.n2 = None\n",
    "        self.operation = None\n",
    "    def calculate(self):\n",
    "        if self.operation == 'ADD':\n",
    "            return self.n1 + self.n2\n",
    "    \n",
    "        \n",
    "class CPU(object):\n",
    "    def __init__(self):\n",
    "        \n",
    "        # 简单的模拟寄存器\n",
    "        self.register = 0\n",
    "        self.control_unit = None\n",
    "        self.operation = None\n",
    "        self.accumulator = None\n",
    "        self.alu = ALU()\n",
    "    \n",
    "    def fetch(self, cmd):\n",
    "        for i in range(self.register, len(cmd)):\n",
    "            \n",
    "            key = list(Memory[i].keys())[0]\n",
    "            \n",
    "            # 如果是储存的数值就会跳过\n",
    "            if key == 'LOAD' or key == 'ADD' or key == 'STORE':\n",
    "                self.control_unit = [key, cmd[i][key]]\n",
    "                self.register += 1\n",
    "                break\n",
    "            else:\n",
    "                self.register += 1\n",
    "        \n",
    "        print('Register Value:', self.register)\n",
    "        print('Control Unit:', self.control_unit[0], self.control_unit[1])\n",
    "        print('Fetch Complete')\n",
    "        \n",
    "                \n",
    "    def decode(self):\n",
    "        # 在Python中这个比较难以体现 但这里就比较简化了\n",
    "        if self.control_unit[0] == 'LOAD':\n",
    "            self.operation = 'LOAD'\n",
    "        elif self.control_unit[0] == 'ADD':\n",
    "            self.operation = 'ADD'\n",
    "        elif self.control_unit[0] == 'STORE':\n",
    "            self.operation = 'STORE'\n",
    "            \n",
    "        print('Decode Complete')\n",
    "            \n",
    "    def get_value(self, cmd, address):\n",
    "        for i in range(len(cmd)):\n",
    "            if list(Memory[i].keys())[0] == address:\n",
    "                return Memory[i][address]\n",
    "        \n",
    "    def execute(self, cmd):\n",
    "        if self.operation == 'LOAD':\n",
    "            # 取出地址\n",
    "            address = self.control_unit[1]\n",
    "            value = self.get_value(cmd, address)\n",
    "            self.accumulator = value\n",
    "            \n",
    "        elif self.operation == 'ADD':\n",
    "            self.alu.operation = 'ADD'\n",
    "            self.alu.n1 = self.accumulator\n",
    "            # 取出地址\n",
    "            address = self.control_unit[1]\n",
    "            value = self.get_value(cmd, address)\n",
    "            self.accumulator = value\n",
    "            self.alu.n2 = self.accumulator\n",
    "            self.accumulator = self.alu.calculate()\n",
    "            \n",
    "        elif self.operation == 'STORE':\n",
    "            value = self.accumulator\n",
    "            new_Memory.append({self.control_unit[1]: value})\n",
    "        \n",
    "        print('Excute Complete')\n",
    "        \n",
    "        \n",
    "    def cycle(self, cmd):\n",
    "        while(self.register <= len(cmd)-1):\n",
    "            \n",
    "            # fetch\n",
    "            self.fetch(cmd)\n",
    "            self.decode()\n",
    "            self.execute(cmd)            "
   ]
  },
  {
   "cell_type": "code",
   "execution_count": 3,
   "id": "63df6ae5-e8a4-429a-99c2-2ffca20abacf",
   "metadata": {
    "tags": []
   },
   "outputs": [
    {
     "name": "stdout",
     "output_type": "stream",
     "text": [
      "Register Value: 3\n",
      "Control Unit: LOAD 10\n",
      "Fetch Complete\n",
      "Decode Complete\n",
      "Excute Complete\n",
      "Register Value: 4\n",
      "Control Unit: ADD 11\n",
      "Fetch Complete\n",
      "Decode Complete\n",
      "Excute Complete\n",
      "Register Value: 5\n",
      "Control Unit: STORE 12\n",
      "Fetch Complete\n",
      "Decode Complete\n",
      "Excute Complete\n"
     ]
    }
   ],
   "source": [
    "c = CPU()\n",
    "c.cycle(Memory)"
   ]
  },
  {
   "cell_type": "code",
   "execution_count": 4,
   "id": "b15636a4-7646-4720-bd9f-5a964ff1adeb",
   "metadata": {},
   "outputs": [
    {
     "data": {
      "text/plain": [
       "5"
      ]
     },
     "execution_count": 4,
     "metadata": {},
     "output_type": "execute_result"
    }
   ],
   "source": [
    "c.accumulator"
   ]
  },
  {
   "cell_type": "code",
   "execution_count": 5,
   "id": "1bbfe312-5565-457b-b750-039042baae6e",
   "metadata": {},
   "outputs": [
    {
     "data": {
      "text/plain": [
       "[{10: 2}, {11: 3}, {'LOAD': 10}, {'ADD': 11}, {'STORE': 12}, {12: 5}]"
      ]
     },
     "execution_count": 5,
     "metadata": {},
     "output_type": "execute_result"
    }
   ],
   "source": [
    "new_Memory"
   ]
  }
 ],
 "metadata": {
  "kernelspec": {
   "display_name": "Python 3 (ipykernel)",
   "language": "python",
   "name": "python3"
  },
  "language_info": {
   "codemirror_mode": {
    "name": "ipython",
    "version": 3
   },
   "file_extension": ".py",
   "mimetype": "text/x-python",
   "name": "python",
   "nbconvert_exporter": "python",
   "pygments_lexer": "ipython3",
   "version": "3.8.10"
  }
 },
 "nbformat": 4,
 "nbformat_minor": 5
}
